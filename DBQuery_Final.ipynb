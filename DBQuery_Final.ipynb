{
 "cells": [
  {
   "cell_type": "code",
   "execution_count": 2,
   "id": "1384172e",
   "metadata": {},
   "outputs": [],
   "source": [
    "import pandas as pd\n",
    "import sqlite3"
   ]
  },
  {
   "cell_type": "code",
   "execution_count": 3,
   "id": "35d0f7a8",
   "metadata": {},
   "outputs": [],
   "source": [
    "data1 = pd.read_csv(\"latitude_longitude_details.csv\")\n",
    "data2 = pd.read_csv(\"terrain_classification_test.csv\")"
   ]
  },
  {
   "cell_type": "code",
   "execution_count": 4,
   "id": "c04750ae",
   "metadata": {},
   "outputs": [],
   "source": [
    "newdata2 = data2.append([data2]*118,ignore_index=True)"
   ]
  },
  {
   "cell_type": "code",
   "execution_count": 5,
   "id": "d592d000",
   "metadata": {},
   "outputs": [],
   "source": [
    "concatenated = pd.concat([data1, newdata2], axis=1)"
   ]
  },
  {
   "cell_type": "code",
   "execution_count": 6,
   "id": "32770bd4",
   "metadata": {},
   "outputs": [],
   "source": [
    "concatenated.columns = ['latitude', 'longitude', 'terrain', 'distance']"
   ]
  },
  {
   "cell_type": "code",
   "execution_count": 7,
   "id": "8b0501e6",
   "metadata": {},
   "outputs": [
    {
     "data": {
      "text/plain": [
       "<sqlite3.Cursor at 0x7fa23e3709d0>"
      ]
     },
     "execution_count": 7,
     "metadata": {},
     "output_type": "execute_result"
    }
   ],
   "source": [
    "conn = sqlite3.connect('test.db')\n",
    "\n",
    "conn.execute('''CREATE TABLE TEST\n",
    "         (latitude      INT      NOT NULL,\n",
    "         longitude      INT    NOT NULL,\n",
    "         terrain        TEXT     NOT NULL,\n",
    "         distance       INT);''')"
   ]
  },
  {
   "cell_type": "code",
   "execution_count": 8,
   "id": "cc9f1b02",
   "metadata": {},
   "outputs": [],
   "source": [
    "insert_statement = \"\"\"\n",
    "INSERT INTO TEST (latitude,\n",
    "                    longitude,\n",
    "                    terrain,\n",
    "                    distance)\n",
    "VALUES (?, ?, ?, ?)\"\"\""
   ]
  },
  {
   "cell_type": "code",
   "execution_count": 11,
   "id": "35ffd08f",
   "metadata": {},
   "outputs": [],
   "source": [
    "conn = sqlite3.connect('test.db')\n",
    "c = conn.cursor()"
   ]
  },
  {
   "cell_type": "code",
   "execution_count": 12,
   "id": "b7925988",
   "metadata": {},
   "outputs": [],
   "source": [
    "for i in range(len(concatenated)):\n",
    "    values = tuple(concatenated.iloc[i])\n",
    "    c.execute(insert_statement, values)"
   ]
  },
  {
   "cell_type": "code",
   "execution_count": 13,
   "id": "1281173a",
   "metadata": {},
   "outputs": [
    {
     "name": "stdout",
     "output_type": "stream",
     "text": [
      "      latitude  longitude             terrain\n",
      "0    10.006992  76.373570  boundary wall,road\n",
      "1    10.006992  76.373608                road\n",
      "2    10.007051  76.373335  boundary wall,road\n",
      "3    10.007069  76.373379                road\n",
      "4    10.007045  76.373344  boundary wall,road\n",
      "..         ...        ...                 ...\n",
      "233  10.017974  76.349704                road\n",
      "234  10.017985  76.349716  boundary wall,road\n",
      "235  10.017987  76.349719                road\n",
      "236  10.017960  76.349727  boundary wall,road\n",
      "237  10.017959  76.349723                road\n",
      "\n",
      "[238 rows x 3 columns]\n"
     ]
    }
   ],
   "source": [
    "print (pd.read_sql_query(\"SELECT latitude,longitude,terrain FROM TEST WHERE ',' || terrain || ',' LIKE '%,' || 'road' || ',%'  OR ',' || terrain || ',' LIKE '%,' || 'boundary wall' || ',% ' AND ',' || terrain || ',' NOT LIKE '%,' || 'civil station' || ',%';\", conn))"
   ]
  },
  {
   "cell_type": "code",
   "execution_count": 46,
   "id": "97f9f284",
   "metadata": {},
   "outputs": [],
   "source": [
    "newdf = pd.read_sql_query(\"SELECT latitude,longitude,terrain FROM TEST WHERE ',' || terrain || ',' LIKE '%,' || 'road' || ',%'  OR ',' || terrain || ',' LIKE '%,' || 'boundary wall' || ',% 'OR ',' || terrain || ',' LIKE '%,' || 'river side' || ',%' AND ',' || terrain || ',' NOT LIKE '%,' || 'civil station' || ',%';\", conn)"
   ]
  },
  {
   "cell_type": "code",
   "execution_count": 47,
   "id": "b4ff52ed",
   "metadata": {},
   "outputs": [],
   "source": [
    "newdf.to_csv('query_result.csv',index=False)\n"
   ]
  },
  {
   "cell_type": "code",
   "execution_count": null,
   "id": "6a30249a",
   "metadata": {},
   "outputs": [],
   "source": []
  }
 ],
 "metadata": {
  "kernelspec": {
   "display_name": "Python 3",
   "language": "python",
   "name": "python3"
  },
  "language_info": {
   "codemirror_mode": {
    "name": "ipython",
    "version": 3
   },
   "file_extension": ".py",
   "mimetype": "text/x-python",
   "name": "python",
   "nbconvert_exporter": "python",
   "pygments_lexer": "ipython3",
   "version": "3.7.8"
  }
 },
 "nbformat": 4,
 "nbformat_minor": 5
}
